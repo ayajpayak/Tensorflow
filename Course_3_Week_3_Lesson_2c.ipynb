{
  "nbformat": 4,
  "nbformat_minor": 0,
  "metadata": {
    "colab": {
      "name": "Course 3 - Week 3 - Lesson 2c.ipynb",
      "provenance": [],
      "collapsed_sections": [],
      "include_colab_link": true
    },
    "kernelspec": {
      "name": "python3",
      "display_name": "Python 3"
    },
    "accelerator": "GPU"
  },
  "cells": [
    {
      "cell_type": "markdown",
      "metadata": {
        "id": "view-in-github",
        "colab_type": "text"
      },
      "source": [
        "<a href=\"https://colab.research.google.com/github/ayajpayak/Tensorflow/blob/master/Course_3_Week_3_Lesson_2c.ipynb\" target=\"_parent\"><img src=\"https://colab.research.google.com/assets/colab-badge.svg\" alt=\"Open In Colab\"/></a>"
      ]
    },
    {
      "cell_type": "code",
      "metadata": {
        "id": "jGwXGIXvFhXW",
        "colab_type": "code",
        "outputId": "396f0d79-21e9-416c-bf3b-dc41a0d76889",
        "colab": {
          "base_uri": "https://localhost:8080/",
          "height": 1000
        }
      },
      "source": [
        "import json\n",
        "import tensorflow as tf\n",
        "\n",
        "from tensorflow.keras.preprocessing.text import Tokenizer\n",
        "from tensorflow.keras.preprocessing.sequence import pad_sequences\n",
        "\n",
        "!wget --no-check-certificate \\\n",
        "    https://storage.googleapis.com/laurencemoroney-blog.appspot.com/sarcasm.json \\\n",
        "    -O /tmp/sarcasm.json\n",
        "\n",
        "vocab_size = 1000\n",
        "embedding_dim = 16\n",
        "max_length = 120\n",
        "trunc_type='post'\n",
        "padding_type='post'\n",
        "oov_tok = \"<OOV>\"\n",
        "training_size = 20000\n",
        "\n",
        "\n",
        "with open(\"/tmp/sarcasm.json\", 'r') as f:\n",
        "    datastore = json.load(f)\n",
        "\n",
        "\n",
        "sentences = []\n",
        "labels = []\n",
        "urls = []\n",
        "for item in datastore:\n",
        "    sentences.append(item['headline'])\n",
        "    labels.append(item['is_sarcastic'])\n",
        "\n",
        "training_sentences = sentences[0:training_size]\n",
        "testing_sentences = sentences[training_size:]\n",
        "training_labels = labels[0:training_size]\n",
        "testing_labels = labels[training_size:]\n",
        "\n",
        "tokenizer = Tokenizer(num_words=vocab_size, oov_token=oov_tok)\n",
        "tokenizer.fit_on_texts(training_sentences)\n",
        "\n",
        "word_index = tokenizer.word_index\n",
        "\n",
        "training_sequences = tokenizer.texts_to_sequences(training_sentences)\n",
        "training_padded = pad_sequences(training_sequences, maxlen=max_length, padding=padding_type, truncating=trunc_type)\n",
        "\n",
        "testing_sequences = tokenizer.texts_to_sequences(testing_sentences)\n",
        "testing_padded = pad_sequences(testing_sequences, maxlen=max_length, padding=padding_type, truncating=trunc_type)\n",
        "\n",
        "model = tf.keras.Sequential([\n",
        "    tf.keras.layers.Embedding(vocab_size, embedding_dim, input_length=max_length),\n",
        "    tf.keras.layers.Conv1D(128, 5, activation='relu'),\n",
        "    tf.keras.layers.GlobalMaxPooling1D(),\n",
        "    tf.keras.layers.Dense(24, activation='relu'),\n",
        "    tf.keras.layers.Dense(1, activation='sigmoid')\n",
        "])\n",
        "model.compile(loss='binary_crossentropy',optimizer='adam',metrics=['accuracy'])\n",
        "model.summary()\n",
        "\n",
        "num_epochs = 50\n",
        "history = model.fit(training_padded, training_labels, epochs=num_epochs, validation_data=(testing_padded, testing_labels), verbose=1)\n",
        "\n"
      ],
      "execution_count": 0,
      "outputs": [
        {
          "output_type": "stream",
          "text": [
            "--2019-09-22 20:54:17--  https://storage.googleapis.com/laurencemoroney-blog.appspot.com/sarcasm.json\n",
            "Resolving storage.googleapis.com (storage.googleapis.com)... 64.233.189.128, 2404:6800:4008:c05::80\n",
            "Connecting to storage.googleapis.com (storage.googleapis.com)|64.233.189.128|:443... connected.\n",
            "HTTP request sent, awaiting response... 200 OK\n",
            "Length: 5643545 (5.4M) [application/json]\n",
            "Saving to: ‘/tmp/sarcasm.json’\n",
            "\n",
            "\r/tmp/sarcasm.json     0%[                    ]       0  --.-KB/s               \r/tmp/sarcasm.json   100%[===================>]   5.38M  --.-KB/s    in 0.03s   \n",
            "\n",
            "2019-09-22 20:54:17 (194 MB/s) - ‘/tmp/sarcasm.json’ saved [5643545/5643545]\n",
            "\n",
            "WARNING:tensorflow:From /usr/local/lib/python3.6/dist-packages/tensorflow/python/keras/initializers.py:119: calling RandomUniform.__init__ (from tensorflow.python.ops.init_ops) with dtype is deprecated and will be removed in a future version.\n",
            "Instructions for updating:\n",
            "Call initializer instance with the dtype argument instead of passing it to the constructor\n",
            "WARNING:tensorflow:From /usr/local/lib/python3.6/dist-packages/tensorflow/python/ops/init_ops.py:1251: calling VarianceScaling.__init__ (from tensorflow.python.ops.init_ops) with dtype is deprecated and will be removed in a future version.\n",
            "Instructions for updating:\n",
            "Call initializer instance with the dtype argument instead of passing it to the constructor\n",
            "WARNING:tensorflow:From /usr/local/lib/python3.6/dist-packages/tensorflow/python/ops/nn_impl.py:180: add_dispatch_support.<locals>.wrapper (from tensorflow.python.ops.array_ops) is deprecated and will be removed in a future version.\n",
            "Instructions for updating:\n",
            "Use tf.where in 2.0, which has the same broadcast rule as np.where\n",
            "Model: \"sequential\"\n",
            "_________________________________________________________________\n",
            "Layer (type)                 Output Shape              Param #   \n",
            "=================================================================\n",
            "embedding (Embedding)        (None, 120, 16)           16000     \n",
            "_________________________________________________________________\n",
            "conv1d (Conv1D)              (None, 116, 128)          10368     \n",
            "_________________________________________________________________\n",
            "global_max_pooling1d (Global (None, 128)               0         \n",
            "_________________________________________________________________\n",
            "dense (Dense)                (None, 24)                3096      \n",
            "_________________________________________________________________\n",
            "dense_1 (Dense)              (None, 1)                 25        \n",
            "=================================================================\n",
            "Total params: 29,489\n",
            "Trainable params: 29,489\n",
            "Non-trainable params: 0\n",
            "_________________________________________________________________\n",
            "Train on 20000 samples, validate on 6709 samples\n",
            "Epoch 1/50\n",
            "20000/20000 [==============================] - 7s 352us/sample - loss: 0.4706 - acc: 0.7591 - val_loss: 0.3988 - val_acc: 0.8234\n",
            "Epoch 2/50\n",
            "20000/20000 [==============================] - 4s 204us/sample - loss: 0.3531 - acc: 0.8420 - val_loss: 0.3913 - val_acc: 0.8232\n",
            "Epoch 3/50\n",
            "20000/20000 [==============================] - 4s 202us/sample - loss: 0.3135 - acc: 0.8624 - val_loss: 0.3882 - val_acc: 0.8243\n",
            "Epoch 4/50\n",
            "20000/20000 [==============================] - 4s 205us/sample - loss: 0.2796 - acc: 0.8787 - val_loss: 0.4070 - val_acc: 0.8216\n",
            "Epoch 5/50\n",
            "20000/20000 [==============================] - 4s 201us/sample - loss: 0.2443 - acc: 0.8979 - val_loss: 0.4425 - val_acc: 0.8095\n",
            "Epoch 6/50\n",
            "20000/20000 [==============================] - 4s 204us/sample - loss: 0.2106 - acc: 0.9146 - val_loss: 0.4738 - val_acc: 0.8173\n",
            "Epoch 7/50\n",
            "20000/20000 [==============================] - 4s 202us/sample - loss: 0.1772 - acc: 0.9307 - val_loss: 0.5230 - val_acc: 0.8132\n",
            "Epoch 8/50\n",
            "20000/20000 [==============================] - 4s 201us/sample - loss: 0.1488 - acc: 0.9417 - val_loss: 0.5919 - val_acc: 0.8052\n",
            "Epoch 9/50\n",
            "20000/20000 [==============================] - 4s 200us/sample - loss: 0.1211 - acc: 0.9553 - val_loss: 0.6713 - val_acc: 0.7977\n",
            "Epoch 10/50\n",
            "20000/20000 [==============================] - 4s 205us/sample - loss: 0.0991 - acc: 0.9650 - val_loss: 0.7316 - val_acc: 0.8009\n",
            "Epoch 11/50\n",
            "20000/20000 [==============================] - 4s 201us/sample - loss: 0.0856 - acc: 0.9696 - val_loss: 0.8016 - val_acc: 0.8019\n",
            "Epoch 12/50\n",
            "20000/20000 [==============================] - 4s 203us/sample - loss: 0.0706 - acc: 0.9758 - val_loss: 0.8922 - val_acc: 0.7991\n",
            "Epoch 13/50\n",
            "20000/20000 [==============================] - 4s 200us/sample - loss: 0.0626 - acc: 0.9783 - val_loss: 0.9885 - val_acc: 0.7946\n",
            "Epoch 14/50\n",
            "20000/20000 [==============================] - 4s 203us/sample - loss: 0.0545 - acc: 0.9816 - val_loss: 1.0258 - val_acc: 0.7898\n",
            "Epoch 15/50\n",
            "20000/20000 [==============================] - 4s 207us/sample - loss: 0.0482 - acc: 0.9836 - val_loss: 1.1203 - val_acc: 0.7959\n",
            "Epoch 16/50\n",
            "20000/20000 [==============================] - 4s 217us/sample - loss: 0.0438 - acc: 0.9851 - val_loss: 1.1584 - val_acc: 0.7909\n",
            "Epoch 17/50\n",
            "20000/20000 [==============================] - 4s 205us/sample - loss: 0.0431 - acc: 0.9848 - val_loss: 1.2824 - val_acc: 0.7913\n",
            "Epoch 18/50\n",
            "20000/20000 [==============================] - 4s 202us/sample - loss: 0.0415 - acc: 0.9848 - val_loss: 1.3066 - val_acc: 0.7873\n",
            "Epoch 19/50\n",
            "20000/20000 [==============================] - 4s 204us/sample - loss: 0.0375 - acc: 0.9854 - val_loss: 1.3997 - val_acc: 0.7953\n",
            "Epoch 20/50\n",
            "20000/20000 [==============================] - 4s 206us/sample - loss: 0.0365 - acc: 0.9863 - val_loss: 1.4533 - val_acc: 0.7889\n",
            "Epoch 21/50\n",
            "20000/20000 [==============================] - 4s 205us/sample - loss: 0.0315 - acc: 0.9880 - val_loss: 1.4825 - val_acc: 0.7830\n",
            "Epoch 22/50\n",
            "20000/20000 [==============================] - 4s 201us/sample - loss: 0.0307 - acc: 0.9886 - val_loss: 1.5663 - val_acc: 0.7910\n",
            "Epoch 23/50\n",
            "20000/20000 [==============================] - 4s 201us/sample - loss: 0.0295 - acc: 0.9884 - val_loss: 1.5709 - val_acc: 0.7877\n",
            "Epoch 24/50\n",
            "20000/20000 [==============================] - 4s 201us/sample - loss: 0.0290 - acc: 0.9892 - val_loss: 1.6363 - val_acc: 0.7951\n",
            "Epoch 25/50\n",
            "20000/20000 [==============================] - 4s 200us/sample - loss: 0.0310 - acc: 0.9873 - val_loss: 1.5797 - val_acc: 0.7903\n",
            "Epoch 26/50\n",
            "20000/20000 [==============================] - 4s 203us/sample - loss: 0.0259 - acc: 0.9897 - val_loss: 1.7935 - val_acc: 0.7900\n",
            "Epoch 27/50\n",
            "20000/20000 [==============================] - 4s 203us/sample - loss: 0.0282 - acc: 0.9887 - val_loss: 1.7328 - val_acc: 0.7897\n",
            "Epoch 28/50\n",
            "20000/20000 [==============================] - 4s 202us/sample - loss: 0.0242 - acc: 0.9901 - val_loss: 1.6949 - val_acc: 0.7915\n",
            "Epoch 29/50\n",
            "20000/20000 [==============================] - 4s 201us/sample - loss: 0.0245 - acc: 0.9897 - val_loss: 1.7158 - val_acc: 0.7834\n",
            "Epoch 30/50\n",
            "20000/20000 [==============================] - 4s 203us/sample - loss: 0.0267 - acc: 0.9898 - val_loss: 1.8611 - val_acc: 0.7889\n",
            "Epoch 31/50\n",
            "20000/20000 [==============================] - 4s 206us/sample - loss: 0.0232 - acc: 0.9908 - val_loss: 1.8508 - val_acc: 0.7857\n",
            "Epoch 32/50\n",
            "20000/20000 [==============================] - 4s 202us/sample - loss: 0.0246 - acc: 0.9903 - val_loss: 1.8651 - val_acc: 0.7892\n",
            "Epoch 33/50\n",
            "20000/20000 [==============================] - 4s 204us/sample - loss: 0.0242 - acc: 0.9897 - val_loss: 1.8120 - val_acc: 0.7839\n",
            "Epoch 34/50\n",
            "20000/20000 [==============================] - 4s 202us/sample - loss: 0.0262 - acc: 0.9893 - val_loss: 1.8812 - val_acc: 0.7858\n",
            "Epoch 35/50\n",
            "20000/20000 [==============================] - 4s 206us/sample - loss: 0.0250 - acc: 0.9895 - val_loss: 1.9429 - val_acc: 0.7903\n",
            "Epoch 36/50\n",
            "20000/20000 [==============================] - 4s 203us/sample - loss: 0.0221 - acc: 0.9908 - val_loss: 1.9912 - val_acc: 0.7888\n",
            "Epoch 37/50\n",
            "20000/20000 [==============================] - 4s 200us/sample - loss: 0.0198 - acc: 0.9916 - val_loss: 2.1120 - val_acc: 0.7845\n",
            "Epoch 38/50\n",
            "20000/20000 [==============================] - 4s 205us/sample - loss: 0.0209 - acc: 0.9911 - val_loss: 2.0714 - val_acc: 0.7897\n",
            "Epoch 39/50\n",
            "20000/20000 [==============================] - 4s 204us/sample - loss: 0.0212 - acc: 0.9905 - val_loss: 2.0775 - val_acc: 0.7922\n",
            "Epoch 40/50\n",
            "20000/20000 [==============================] - 4s 204us/sample - loss: 0.0208 - acc: 0.9906 - val_loss: 2.2035 - val_acc: 0.7870\n",
            "Epoch 41/50\n",
            "20000/20000 [==============================] - 4s 204us/sample - loss: 0.0182 - acc: 0.9923 - val_loss: 2.3677 - val_acc: 0.7866\n",
            "Epoch 42/50\n",
            "20000/20000 [==============================] - 4s 203us/sample - loss: 0.0231 - acc: 0.9898 - val_loss: 2.2007 - val_acc: 0.7919\n",
            "Epoch 43/50\n",
            "20000/20000 [==============================] - 4s 202us/sample - loss: 0.0225 - acc: 0.9901 - val_loss: 2.5009 - val_acc: 0.7845\n",
            "Epoch 44/50\n",
            "20000/20000 [==============================] - 4s 204us/sample - loss: 0.0228 - acc: 0.9906 - val_loss: 2.3018 - val_acc: 0.7831\n",
            "Epoch 45/50\n",
            "20000/20000 [==============================] - 4s 202us/sample - loss: 0.0239 - acc: 0.9897 - val_loss: 2.2271 - val_acc: 0.7806\n",
            "Epoch 46/50\n",
            "20000/20000 [==============================] - 4s 202us/sample - loss: 0.0174 - acc: 0.9926 - val_loss: 2.2499 - val_acc: 0.7810\n",
            "Epoch 47/50\n",
            "20000/20000 [==============================] - 4s 202us/sample - loss: 0.0151 - acc: 0.9929 - val_loss: 2.4183 - val_acc: 0.7824\n",
            "Epoch 48/50\n",
            "20000/20000 [==============================] - 4s 204us/sample - loss: 0.0160 - acc: 0.9927 - val_loss: 2.4435 - val_acc: 0.7837\n",
            "Epoch 49/50\n",
            "20000/20000 [==============================] - 4s 203us/sample - loss: 0.0234 - acc: 0.9901 - val_loss: 2.4550 - val_acc: 0.7816\n",
            "Epoch 50/50\n",
            "20000/20000 [==============================] - 4s 204us/sample - loss: 0.0292 - acc: 0.9877 - val_loss: 2.3229 - val_acc: 0.7864\n"
          ],
          "name": "stdout"
        }
      ]
    },
    {
      "cell_type": "code",
      "metadata": {
        "id": "g9DC6dmLF8DC",
        "colab_type": "code",
        "outputId": "78c2c184-1f86-4853-82de-0a32caf6e711",
        "colab": {
          "base_uri": "https://localhost:8080/",
          "height": 549
        }
      },
      "source": [
        "import matplotlib.pyplot as plt\n",
        "\n",
        "\n",
        "def plot_graphs(history, string):\n",
        "  plt.plot(history.history[string])\n",
        "  plt.plot(history.history['val_'+string])\n",
        "  plt.xlabel(\"Epochs\")\n",
        "  plt.ylabel(string)\n",
        "  plt.legend([string, 'val_'+string])\n",
        "  plt.show()\n",
        "\n",
        "plot_graphs(history, 'acc')\n",
        "plot_graphs(history, 'loss')"
      ],
      "execution_count": 0,
      "outputs": [
        {
          "output_type": "display_data",
          "data": {
            "image/png": "[encoded data removed]",
            "text/plain": [
              "<Figure size 432x288 with 1 Axes>"
            ]
          },
          "metadata": {
            "tags": []
          }
        },
        {
          "output_type": "display_data",
          "data": {
            "image/png": "[encoded data removed]",
            "text/plain": [
              "<Figure size 432x288 with 1 Axes>"
            ]
          },
          "metadata": {
            "tags": []
          }
        }
      ]
    },
    {
      "cell_type": "code",
      "metadata": {
        "id": "7ZEZIUppGhdi",
        "colab_type": "code",
        "colab": {}
      },
      "source": [
        "model.save(\"test.h5\")"
      ],
      "execution_count": 0,
      "outputs": []
    }
  ]
}