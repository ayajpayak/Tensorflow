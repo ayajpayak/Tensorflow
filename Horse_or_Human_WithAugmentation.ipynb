{
  "nbformat": 4,
  "nbformat_minor": 0,
  "metadata": {
    "colab": {
      "name": "Horse-or-Human-WithAugmentation.ipynb",
      "provenance": [],
      "collapsed_sections": [],
      "include_colab_link": true
    },
    "kernelspec": {
      "name": "python3",
      "display_name": "Python 3"
    },
    "accelerator": "GPU"
  },
  "cells": [
    {
      "cell_type": "markdown",
      "metadata": {
        "id": "view-in-github",
        "colab_type": "text"
      },
      "source": [
        "<a href=\"https://colab.research.google.com/github/ayajpayak/Tensorflow/blob/master/Horse_or_Human_WithAugmentation.ipynb\" target=\"_parent\"><img src=\"https://colab.research.google.com/assets/colab-badge.svg\" alt=\"Open In Colab\"/></a>"
      ]
    },
    {
      "cell_type": "code",
      "metadata": {
        "colab_type": "code",
        "id": "RXZT2UsyIVe_",
        "outputId": "b014829d-cd27-4025-b3d0-d8beb348fbaf",
        "colab": {
          "base_uri": "https://localhost:8080/",
          "height": 424
        }
      },
      "source": [
        "!wget --no-check-certificate \\\n",
        "    https://storage.googleapis.com/laurencemoroney-blog.appspot.com/horse-or-human.zip \\\n",
        "    -O /tmp/horse-or-human.zip\n",
        "\n",
        "!wget --no-check-certificate \\\n",
        "    https://storage.googleapis.com/laurencemoroney-blog.appspot.com/validation-horse-or-human.zip \\\n",
        "    -O /tmp/validation-horse-or-human.zip\n",
        "  \n",
        "import os\n",
        "import zipfile\n",
        "\n",
        "local_zip = '/tmp/horse-or-human.zip'\n",
        "zip_ref = zipfile.ZipFile(local_zip, 'r')\n",
        "zip_ref.extractall('/tmp/horse-or-human')\n",
        "local_zip = '/tmp/validation-horse-or-human.zip'\n",
        "zip_ref = zipfile.ZipFile(local_zip, 'r')\n",
        "zip_ref.extractall('/tmp/validation-horse-or-human')\n",
        "zip_ref.close()\n",
        "# Directory with our training horse pictures\n",
        "train_horse_dir = os.path.join('/tmp/horse-or-human/horses')\n",
        "\n",
        "# Directory with our training human pictures\n",
        "train_human_dir = os.path.join('/tmp/horse-or-human/humans')\n",
        "\n",
        "# Directory with our training horse pictures\n",
        "validation_horse_dir = os.path.join('/tmp/validation-horse-or-human/horses')\n",
        "\n",
        "# Directory with our training human pictures\n",
        "validation_human_dir = os.path.join('/tmp/validation-horse-or-human/humans')"
      ],
      "execution_count": 0,
      "outputs": [
        {
          "output_type": "stream",
          "text": [
            "--2019-09-21 22:25:47--  https://storage.googleapis.com/laurencemoroney-blog.appspot.com/horse-or-human.zip\n",
            "Resolving storage.googleapis.com (storage.googleapis.com)... 172.217.212.128, 2607:f8b0:4001:c19::80\n",
            "Connecting to storage.googleapis.com (storage.googleapis.com)|172.217.212.128|:443... connected.\n",
            "HTTP request sent, awaiting response... 200 OK\n",
            "Length: 149574867 (143M) [application/zip]\n",
            "Saving to: ‘/tmp/horse-or-human.zip’\n",
            "\n",
            "/tmp/horse-or-human 100%[===================>] 142.65M  60.9MB/s    in 2.3s    \n",
            "\n",
            "2019-09-21 22:25:49 (60.9 MB/s) - ‘/tmp/horse-or-human.zip’ saved [149574867/149574867]\n",
            "\n",
            "--2019-09-21 22:25:49--  https://storage.googleapis.com/laurencemoroney-blog.appspot.com/validation-horse-or-human.zip\n",
            "Resolving storage.googleapis.com (storage.googleapis.com)... 172.217.212.128, 2607:f8b0:4001:c19::80\n",
            "Connecting to storage.googleapis.com (storage.googleapis.com)|172.217.212.128|:443... connected.\n",
            "HTTP request sent, awaiting response... 200 OK\n",
            "Length: 11480187 (11M) [application/zip]\n",
            "Saving to: ‘/tmp/validation-horse-or-human.zip’\n",
            "\n",
            "/tmp/validation-hor 100%[===================>]  10.95M  --.-KB/s    in 0.1s    \n",
            "\n",
            "2019-09-21 22:25:50 (74.3 MB/s) - ‘/tmp/validation-horse-or-human.zip’ saved [11480187/11480187]\n",
            "\n"
          ],
          "name": "stdout"
        }
      ]
    },
    {
      "cell_type": "markdown",
      "metadata": {
        "colab_type": "text",
        "id": "5oqBkNBJmtUv"
      },
      "source": [
        "## Building a Small Model from Scratch\n",
        "\n",
        "But before we continue, let's start defining the model:\n",
        "\n",
        "Step 1 will be to import tensorflow."
      ]
    },
    {
      "cell_type": "code",
      "metadata": {
        "id": "qvfZg3LQbD-5",
        "colab_type": "code",
        "colab": {}
      },
      "source": [
        "import tensorflow as tf"
      ],
      "execution_count": 0,
      "outputs": []
    },
    {
      "cell_type": "markdown",
      "metadata": {
        "colab_type": "text",
        "id": "BnhYCP4tdqjC"
      },
      "source": [
        "We then add convolutional layers as in the previous example, and flatten the final result to feed into the densely connected layers."
      ]
    },
    {
      "cell_type": "markdown",
      "metadata": {
        "id": "gokG5HKpdtzm",
        "colab_type": "text"
      },
      "source": [
        "Finally we add the densely connected layers. \n",
        "\n",
        "Note that because we are facing a two-class classification problem, i.e. a *binary classification problem*, we will end our network with a [*sigmoid* activation](https://wikipedia.org/wiki/Sigmoid_function), so that the output of our network will be a single scalar between 0 and 1, encoding the probability that the current image is class 1 (as opposed to class 0)."
      ]
    },
    {
      "cell_type": "code",
      "metadata": {
        "id": "PixZ2s5QbYQ3",
        "colab_type": "code",
        "outputId": "6e16c62b-5d5a-4fa8-9486-3bf9b7839c2e",
        "colab": {
          "base_uri": "https://localhost:8080/",
          "height": 90
        }
      },
      "source": [
        "model = tf.keras.models.Sequential([\n",
        "    # Note the input shape is the desired size of the image 300x300 with 3 bytes color\n",
        "    # This is the first convolution\n",
        "    tf.keras.layers.Conv2D(16, (3,3), activation='relu', input_shape=(300, 300, 3)),\n",
        "    tf.keras.layers.MaxPooling2D(2, 2),\n",
        "    # The second convolution\n",
        "    tf.keras.layers.Conv2D(32, (3,3), activation='relu'),\n",
        "    tf.keras.layers.MaxPooling2D(2,2),\n",
        "    # The third convolution\n",
        "    tf.keras.layers.Conv2D(64, (3,3), activation='relu'),\n",
        "    tf.keras.layers.MaxPooling2D(2,2),\n",
        "    # The fourth convolution\n",
        "    tf.keras.layers.Conv2D(64, (3,3), activation='relu'),\n",
        "    tf.keras.layers.MaxPooling2D(2,2),\n",
        "    # The fifth convolution\n",
        "    tf.keras.layers.Conv2D(64, (3,3), activation='relu'),\n",
        "    tf.keras.layers.MaxPooling2D(2,2),\n",
        "    # Flatten the results to feed into a DNN\n",
        "    tf.keras.layers.Flatten(),\n",
        "    # 512 neuron hidden layer\n",
        "    tf.keras.layers.Dense(512, activation='relu'),\n",
        "    # Only 1 output neuron. It will contain a value from 0-1 where 0 for 1 class ('horses') and 1 for the other ('humans')\n",
        "    tf.keras.layers.Dense(1, activation='sigmoid')\n",
        "])"
      ],
      "execution_count": 0,
      "outputs": [
        {
          "output_type": "stream",
          "text": [
            "WARNING:tensorflow:From /usr/local/lib/python3.6/dist-packages/tensorflow/python/ops/init_ops.py:1251: calling VarianceScaling.__init__ (from tensorflow.python.ops.init_ops) with dtype is deprecated and will be removed in a future version.\n",
            "Instructions for updating:\n",
            "Call initializer instance with the dtype argument instead of passing it to the constructor\n"
          ],
          "name": "stdout"
        }
      ]
    },
    {
      "cell_type": "code",
      "metadata": {
        "colab_type": "code",
        "id": "8DHWhFP_uhq3",
        "outputId": "9905fc1f-1ecd-4ea1-eda8-c8337abef2c7",
        "colab": {
          "base_uri": "https://localhost:8080/",
          "height": 90
        }
      },
      "source": [
        "from tensorflow.keras.optimizers import RMSprop\n",
        "\n",
        "model.compile(loss='binary_crossentropy',\n",
        "              optimizer=RMSprop(lr=1e-4),\n",
        "              metrics=['acc'])"
      ],
      "execution_count": 0,
      "outputs": [
        {
          "output_type": "stream",
          "text": [
            "WARNING:tensorflow:From /usr/local/lib/python3.6/dist-packages/tensorflow/python/ops/nn_impl.py:180: add_dispatch_support.<locals>.wrapper (from tensorflow.python.ops.array_ops) is deprecated and will be removed in a future version.\n",
            "Instructions for updating:\n",
            "Use tf.where in 2.0, which has the same broadcast rule as np.where\n"
          ],
          "name": "stdout"
        }
      ]
    },
    {
      "cell_type": "code",
      "metadata": {
        "colab_type": "code",
        "id": "ClebU9NJg99G",
        "outputId": "450bcab5-fc22-4384-bfbb-af417c9a6519",
        "colab": {
          "base_uri": "https://localhost:8080/",
          "height": 52
        }
      },
      "source": [
        "from tensorflow.keras.preprocessing.image import ImageDataGenerator\n",
        "\n",
        "# All images will be rescaled by 1./255\n",
        "train_datagen = ImageDataGenerator(\n",
        "      rescale=1./255,\n",
        "      rotation_range=40,\n",
        "      width_shift_range=0.2,\n",
        "      height_shift_range=0.2,\n",
        "      shear_range=0.2,\n",
        "      zoom_range=0.2,\n",
        "      horizontal_flip=True,\n",
        "      fill_mode='nearest')\n",
        "\n",
        "validation_datagen = ImageDataGenerator(rescale=1/255)\n",
        "\n",
        "# Flow training images in batches of 128 using train_datagen generator\n",
        "train_generator = train_datagen.flow_from_directory(\n",
        "        '/tmp/horse-or-human/',  # This is the source directory for training images\n",
        "        target_size=(300, 300),  # All images will be resized to 150x150\n",
        "        batch_size=128,\n",
        "        # Since we use binary_crossentropy loss, we need binary labels\n",
        "        class_mode='binary')\n",
        "\n",
        "# Flow training images in batches of 128 using train_datagen generator\n",
        "validation_generator = validation_datagen.flow_from_directory(\n",
        "        '/tmp/validation-horse-or-human/',  # This is the source directory for training images\n",
        "        target_size=(300, 300),  # All images will be resized to 150x150\n",
        "        batch_size=32,\n",
        "        # Since we use binary_crossentropy loss, we need binary labels\n",
        "        class_mode='binary')"
      ],
      "execution_count": 0,
      "outputs": [
        {
          "output_type": "stream",
          "text": [
            "Found 1027 images belonging to 2 classes.\n",
            "Found 256 images belonging to 2 classes.\n"
          ],
          "name": "stdout"
        }
      ]
    },
    {
      "cell_type": "code",
      "metadata": {
        "colab_type": "code",
        "id": "Fb1_lgobv81m",
        "outputId": "35f1cd23-20e1-4faa-df38-49618eaf84fb",
        "colab": {
          "base_uri": "https://localhost:8080/",
          "height": 1000
        }
      },
      "source": [
        "history = model.fit_generator(\n",
        "      train_generator,\n",
        "      steps_per_epoch=8,  \n",
        "      epochs=100,\n",
        "      verbose=1,\n",
        "      validation_data = validation_generator,\n",
        "      validation_steps=8)"
      ],
      "execution_count": 0,
      "outputs": [
        {
          "output_type": "stream",
          "text": [
            "Epoch 1/100\n",
            "8/8 [==============================] - 23s 3s/step - loss: 0.6973 - acc: 0.5261 - val_loss: 0.6707 - val_acc: 0.9531\n",
            "Epoch 2/100\n",
            "8/8 [==============================] - 22s 3s/step - loss: 0.6708 - acc: 0.5684 - val_loss: 0.6285 - val_acc: 0.8359\n",
            "Epoch 3/100\n",
            "8/8 [==============================] - 22s 3s/step - loss: 0.6442 - acc: 0.6585 - val_loss: 0.6029 - val_acc: 0.6055\n",
            "Epoch 4/100\n",
            "8/8 [==============================] - 22s 3s/step - loss: 0.6734 - acc: 0.6630 - val_loss: 0.7259 - val_acc: 0.5000\n",
            "Epoch 5/100\n",
            "8/8 [==============================] - 25s 3s/step - loss: 0.5932 - acc: 0.7109 - val_loss: 0.5592 - val_acc: 0.6641\n",
            "Epoch 6/100\n",
            "8/8 [==============================] - 19s 2s/step - loss: 0.6312 - acc: 0.6615 - val_loss: 0.5284 - val_acc: 0.7109\n",
            "Epoch 7/100\n",
            "8/8 [==============================] - 22s 3s/step - loss: 0.5519 - acc: 0.7742 - val_loss: 0.4536 - val_acc: 0.9141\n",
            "Epoch 8/100\n",
            "8/8 [==============================] - 25s 3s/step - loss: 0.5535 - acc: 0.7275 - val_loss: 0.6198 - val_acc: 0.6133\n",
            "Epoch 9/100\n",
            "8/8 [==============================] - 22s 3s/step - loss: 0.5086 - acc: 0.7497 - val_loss: 0.7592 - val_acc: 0.5625\n",
            "Epoch 10/100\n",
            "8/8 [==============================] - 22s 3s/step - loss: 0.4692 - acc: 0.7875 - val_loss: 0.6185 - val_acc: 0.6602\n",
            "Epoch 11/100\n",
            "8/8 [==============================] - 22s 3s/step - loss: 0.5278 - acc: 0.7364 - val_loss: 0.5892 - val_acc: 0.6719\n",
            "Epoch 12/100\n",
            "8/8 [==============================] - 25s 3s/step - loss: 0.4393 - acc: 0.8154 - val_loss: 0.4858 - val_acc: 0.7461\n",
            "Epoch 13/100\n",
            "8/8 [==============================] - 19s 2s/step - loss: 0.5362 - acc: 0.7713 - val_loss: 0.8465 - val_acc: 0.5938\n",
            "Epoch 14/100\n",
            "8/8 [==============================] - 25s 3s/step - loss: 0.4408 - acc: 0.7939 - val_loss: 0.6741 - val_acc: 0.6719\n",
            "Epoch 15/100\n",
            "8/8 [==============================] - 22s 3s/step - loss: 0.4733 - acc: 0.7964 - val_loss: 1.0205 - val_acc: 0.5938\n",
            "Epoch 16/100\n",
            "8/8 [==============================] - 22s 3s/step - loss: 0.4547 - acc: 0.7664 - val_loss: 0.8906 - val_acc: 0.6133\n",
            "Epoch 17/100\n",
            "8/8 [==============================] - 22s 3s/step - loss: 0.3526 - acc: 0.8220 - val_loss: 1.0093 - val_acc: 0.6133\n",
            "Epoch 18/100\n",
            "8/8 [==============================] - 22s 3s/step - loss: 0.4465 - acc: 0.7942 - val_loss: 0.8433 - val_acc: 0.6484\n",
            "Epoch 19/100\n",
            "8/8 [==============================] - 22s 3s/step - loss: 0.4072 - acc: 0.8076 - val_loss: 0.8092 - val_acc: 0.6602\n",
            "Epoch 20/100\n",
            "8/8 [==============================] - 22s 3s/step - loss: 0.3671 - acc: 0.8209 - val_loss: 0.6252 - val_acc: 0.7383\n",
            "Epoch 21/100\n",
            "8/8 [==============================] - 22s 3s/step - loss: 0.3996 - acc: 0.8120 - val_loss: 1.1946 - val_acc: 0.6172\n",
            "Epoch 22/100\n",
            "8/8 [==============================] - 25s 3s/step - loss: 0.3369 - acc: 0.8525 - val_loss: 1.4839 - val_acc: 0.5859\n",
            "Epoch 23/100\n",
            "8/8 [==============================] - 19s 2s/step - loss: 0.4174 - acc: 0.7713 - val_loss: 1.0574 - val_acc: 0.6289\n",
            "Epoch 24/100\n",
            "8/8 [==============================] - 25s 3s/step - loss: 0.3429 - acc: 0.8477 - val_loss: 1.2228 - val_acc: 0.6250\n",
            "Epoch 25/100\n",
            "8/8 [==============================] - 22s 3s/step - loss: 0.3076 - acc: 0.8543 - val_loss: 0.7853 - val_acc: 0.7188\n",
            "Epoch 26/100\n",
            "8/8 [==============================] - 22s 3s/step - loss: 0.5072 - acc: 0.7887 - val_loss: 1.5007 - val_acc: 0.5742\n",
            "Epoch 27/100\n",
            "8/8 [==============================] - 22s 3s/step - loss: 0.3044 - acc: 0.8676 - val_loss: 1.1365 - val_acc: 0.6445\n",
            "Epoch 28/100\n",
            "8/8 [==============================] - 22s 3s/step - loss: 0.3248 - acc: 0.8465 - val_loss: 1.7097 - val_acc: 0.5742\n",
            "Epoch 29/100\n",
            "8/8 [==============================] - 22s 3s/step - loss: 0.2902 - acc: 0.8699 - val_loss: 1.2034 - val_acc: 0.6484\n",
            "Epoch 30/100\n",
            "8/8 [==============================] - 25s 3s/step - loss: 0.2921 - acc: 0.8760 - val_loss: 1.8473 - val_acc: 0.5781\n",
            "Epoch 31/100\n",
            "8/8 [==============================] - 19s 2s/step - loss: 0.3869 - acc: 0.8514 - val_loss: 2.0718 - val_acc: 0.5586\n",
            "Epoch 32/100\n",
            "8/8 [==============================] - 25s 3s/step - loss: 0.3037 - acc: 0.8750 - val_loss: 1.1154 - val_acc: 0.6875\n",
            "Epoch 33/100\n",
            "8/8 [==============================] - 22s 3s/step - loss: 0.3726 - acc: 0.8465 - val_loss: 1.4810 - val_acc: 0.6211\n",
            "Epoch 34/100\n",
            "8/8 [==============================] - 22s 3s/step - loss: 0.2839 - acc: 0.8621 - val_loss: 1.5536 - val_acc: 0.6211\n",
            "Epoch 35/100\n",
            "8/8 [==============================] - 22s 3s/step - loss: 0.3124 - acc: 0.8454 - val_loss: 1.2087 - val_acc: 0.6719\n",
            "Epoch 36/100\n",
            "8/8 [==============================] - 22s 3s/step - loss: 0.2770 - acc: 0.8665 - val_loss: 1.7086 - val_acc: 0.6055\n",
            "Epoch 37/100\n",
            "8/8 [==============================] - 22s 3s/step - loss: 0.2729 - acc: 0.8999 - val_loss: 2.4365 - val_acc: 0.5664\n",
            "Epoch 38/100\n",
            "8/8 [==============================] - 22s 3s/step - loss: 0.3691 - acc: 0.8532 - val_loss: 1.8947 - val_acc: 0.5820\n",
            "Epoch 39/100\n",
            "8/8 [==============================] - 22s 3s/step - loss: 0.2887 - acc: 0.8854 - val_loss: 0.9826 - val_acc: 0.7305\n",
            "Epoch 40/100\n",
            "8/8 [==============================] - 25s 3s/step - loss: 0.3194 - acc: 0.8662 - val_loss: 2.4531 - val_acc: 0.5469\n",
            "Epoch 41/100\n",
            "8/8 [==============================] - 22s 3s/step - loss: 0.2429 - acc: 0.9010 - val_loss: 2.6762 - val_acc: 0.5391\n",
            "Epoch 42/100\n",
            "8/8 [==============================] - 22s 3s/step - loss: 0.3382 - acc: 0.8476 - val_loss: 1.7761 - val_acc: 0.5938\n",
            "Epoch 43/100\n",
            "8/8 [==============================] - 22s 3s/step - loss: 0.2337 - acc: 0.8988 - val_loss: 3.1468 - val_acc: 0.5195\n",
            "Epoch 44/100\n",
            "8/8 [==============================] - 22s 3s/step - loss: 0.3654 - acc: 0.8454 - val_loss: 2.7759 - val_acc: 0.5391\n",
            "Epoch 45/100\n",
            "8/8 [==============================] - 22s 3s/step - loss: 0.2161 - acc: 0.9055 - val_loss: 1.8515 - val_acc: 0.6016\n",
            "Epoch 46/100\n",
            "8/8 [==============================] - 22s 3s/step - loss: 0.2630 - acc: 0.8810 - val_loss: 2.5287 - val_acc: 0.5586\n",
            "Epoch 47/100\n",
            "8/8 [==============================] - 22s 3s/step - loss: 0.2524 - acc: 0.8888 - val_loss: 1.6405 - val_acc: 0.6367\n",
            "Epoch 48/100\n",
            "8/8 [==============================] - 22s 3s/step - loss: 0.2343 - acc: 0.8854 - val_loss: 1.9437 - val_acc: 0.6094\n",
            "Epoch 49/100\n",
            "8/8 [==============================] - 22s 3s/step - loss: 0.2462 - acc: 0.8954 - val_loss: 2.4727 - val_acc: 0.5703\n",
            "Epoch 50/100\n",
            "8/8 [==============================] - 22s 3s/step - loss: 0.2337 - acc: 0.8910 - val_loss: 3.9905 - val_acc: 0.5078\n",
            "Epoch 51/100\n",
            "8/8 [==============================] - 22s 3s/step - loss: 0.2320 - acc: 0.8977 - val_loss: 1.1245 - val_acc: 0.7109\n",
            "Epoch 52/100\n",
            "8/8 [==============================] - 22s 3s/step - loss: 0.2613 - acc: 0.8999 - val_loss: 0.7562 - val_acc: 0.7656\n",
            "Epoch 53/100\n",
            "8/8 [==============================] - 25s 3s/step - loss: 0.2786 - acc: 0.8848 - val_loss: 2.4344 - val_acc: 0.5820\n",
            "Epoch 54/100\n",
            "8/8 [==============================] - 22s 3s/step - loss: 0.1964 - acc: 0.9132 - val_loss: 3.0977 - val_acc: 0.5391\n",
            "Epoch 55/100\n",
            "8/8 [==============================] - 22s 3s/step - loss: 0.2161 - acc: 0.9043 - val_loss: 2.0116 - val_acc: 0.6289\n",
            "Epoch 56/100\n",
            "8/8 [==============================] - 25s 3s/step - loss: 0.2505 - acc: 0.8975 - val_loss: 2.3804 - val_acc: 0.5820\n",
            "Epoch 57/100\n",
            "8/8 [==============================] - 19s 2s/step - loss: 0.2407 - acc: 0.8992 - val_loss: 2.5772 - val_acc: 0.5703\n",
            "Epoch 58/100\n",
            "8/8 [==============================] - 25s 3s/step - loss: 0.2302 - acc: 0.9043 - val_loss: 2.2085 - val_acc: 0.5898\n",
            "Epoch 59/100\n",
            "8/8 [==============================] - 23s 3s/step - loss: 0.1960 - acc: 0.9177 - val_loss: 2.6649 - val_acc: 0.5781\n",
            "Epoch 60/100\n",
            "8/8 [==============================] - 19s 2s/step - loss: 0.1741 - acc: 0.9276 - val_loss: 5.8650 - val_acc: 0.5000\n",
            "Epoch 61/100\n",
            "8/8 [==============================] - 25s 3s/step - loss: 0.3105 - acc: 0.8838 - val_loss: 2.8526 - val_acc: 0.5625\n",
            "Epoch 62/100\n",
            "8/8 [==============================] - 22s 3s/step - loss: 0.1652 - acc: 0.9333 - val_loss: 3.0653 - val_acc: 0.5547\n",
            "Epoch 63/100\n",
            "8/8 [==============================] - 22s 3s/step - loss: 0.2170 - acc: 0.8921 - val_loss: 2.6410 - val_acc: 0.5820\n",
            "Epoch 64/100\n",
            "8/8 [==============================] - 22s 3s/step - loss: 0.1689 - acc: 0.9299 - val_loss: 3.3961 - val_acc: 0.5430\n",
            "Epoch 65/100\n",
            "8/8 [==============================] - 22s 3s/step - loss: 0.1878 - acc: 0.9177 - val_loss: 3.4743 - val_acc: 0.5234\n",
            "Epoch 66/100\n",
            "8/8 [==============================] - 25s 3s/step - loss: 0.2200 - acc: 0.9033 - val_loss: 2.9865 - val_acc: 0.5586\n",
            "Epoch 67/100\n",
            "8/8 [==============================] - 22s 3s/step - loss: 0.1850 - acc: 0.9277 - val_loss: 2.5755 - val_acc: 0.6016\n",
            "Epoch 68/100\n",
            "8/8 [==============================] - 19s 2s/step - loss: 0.1997 - acc: 0.8953 - val_loss: 2.1811 - val_acc: 0.6328\n",
            "Epoch 69/100\n",
            "8/8 [==============================] - 22s 3s/step - loss: 0.2357 - acc: 0.8910 - val_loss: 2.6948 - val_acc: 0.5820\n",
            "Epoch 70/100\n",
            "8/8 [==============================] - 25s 3s/step - loss: 0.1710 - acc: 0.9297 - val_loss: 3.9617 - val_acc: 0.5234\n",
            "Epoch 71/100\n",
            "8/8 [==============================] - 22s 3s/step - loss: 0.1669 - acc: 0.9333 - val_loss: 3.4263 - val_acc: 0.5469\n",
            "Epoch 72/100\n",
            "8/8 [==============================] - 22s 3s/step - loss: 0.2509 - acc: 0.8765 - val_loss: 2.1349 - val_acc: 0.6094\n",
            "Epoch 73/100\n",
            "8/8 [==============================] - 22s 3s/step - loss: 0.1372 - acc: 0.9511 - val_loss: 2.4304 - val_acc: 0.6172\n",
            "Epoch 74/100\n",
            "8/8 [==============================] - 25s 3s/step - loss: 0.2004 - acc: 0.9102 - val_loss: 4.2567 - val_acc: 0.5156\n",
            "Epoch 75/100\n",
            "8/8 [==============================] - 19s 2s/step - loss: 0.2580 - acc: 0.9302 - val_loss: 3.3783 - val_acc: 0.5469\n",
            "Epoch 76/100\n",
            "8/8 [==============================] - 22s 3s/step - loss: 0.1423 - acc: 0.9377 - val_loss: 3.6265 - val_acc: 0.5430\n",
            "Epoch 77/100\n",
            "8/8 [==============================] - 25s 3s/step - loss: 0.1827 - acc: 0.9199 - val_loss: 2.9376 - val_acc: 0.5742\n",
            "Epoch 78/100\n",
            "8/8 [==============================] - 22s 3s/step - loss: 0.1554 - acc: 0.9255 - val_loss: 4.7841 - val_acc: 0.5117\n",
            "Epoch 79/100\n",
            "8/8 [==============================] - 22s 3s/step - loss: 0.1964 - acc: 0.9177 - val_loss: 3.3616 - val_acc: 0.5547\n",
            "Epoch 80/100\n",
            "8/8 [==============================] - 22s 3s/step - loss: 0.2045 - acc: 0.9232 - val_loss: 4.9162 - val_acc: 0.5117\n",
            "Epoch 81/100\n",
            "8/8 [==============================] - 22s 3s/step - loss: 0.1732 - acc: 0.9299 - val_loss: 3.1881 - val_acc: 0.5742\n",
            "Epoch 82/100\n",
            "8/8 [==============================] - 22s 3s/step - loss: 0.1211 - acc: 0.9677 - val_loss: 8.0041 - val_acc: 0.5000\n",
            "Epoch 83/100\n",
            "8/8 [==============================] - 22s 3s/step - loss: 0.3201 - acc: 0.9010 - val_loss: 3.5629 - val_acc: 0.5664\n",
            "Epoch 84/100\n",
            "8/8 [==============================] - 25s 3s/step - loss: 0.1196 - acc: 0.9561 - val_loss: 3.9357 - val_acc: 0.5469\n",
            "Epoch 85/100\n",
            "8/8 [==============================] - 19s 2s/step - loss: 0.1631 - acc: 0.9199 - val_loss: 2.9218 - val_acc: 0.6133\n",
            "Epoch 86/100\n",
            "8/8 [==============================] - 22s 3s/step - loss: 0.1343 - acc: 0.9444 - val_loss: 2.7190 - val_acc: 0.6328\n",
            "Epoch 87/100\n",
            "8/8 [==============================] - 25s 3s/step - loss: 0.1571 - acc: 0.9346 - val_loss: 4.3417 - val_acc: 0.5352\n",
            "Epoch 88/100\n",
            "8/8 [==============================] - 22s 3s/step - loss: 0.1492 - acc: 0.9344 - val_loss: 4.0400 - val_acc: 0.5469\n",
            "Epoch 89/100\n",
            "8/8 [==============================] - 22s 3s/step - loss: 0.2114 - acc: 0.9121 - val_loss: 3.4184 - val_acc: 0.5703\n",
            "Epoch 90/100\n",
            "8/8 [==============================] - 22s 3s/step - loss: 0.1163 - acc: 0.9455 - val_loss: 2.5792 - val_acc: 0.6328\n",
            "Epoch 91/100\n",
            "8/8 [==============================] - 25s 3s/step - loss: 0.1947 - acc: 0.9160 - val_loss: 2.8988 - val_acc: 0.6016\n",
            "Epoch 92/100\n",
            "8/8 [==============================] - 23s 3s/step - loss: 0.1616 - acc: 0.9388 - val_loss: 2.9459 - val_acc: 0.6055\n",
            "Epoch 93/100\n",
            "8/8 [==============================] - 19s 2s/step - loss: 0.1192 - acc: 0.9419 - val_loss: 3.7864 - val_acc: 0.5469\n",
            "Epoch 94/100\n",
            "8/8 [==============================] - 22s 3s/step - loss: 0.1501 - acc: 0.9333 - val_loss: 2.7258 - val_acc: 0.6172\n",
            "Epoch 95/100\n",
            "8/8 [==============================] - 25s 3s/step - loss: 0.1557 - acc: 0.9307 - val_loss: 3.0730 - val_acc: 0.6055\n",
            "Epoch 96/100\n",
            "8/8 [==============================] - 19s 2s/step - loss: 0.1420 - acc: 0.9251 - val_loss: 1.7053 - val_acc: 0.6758\n",
            "Epoch 97/100\n",
            "8/8 [==============================] - 25s 3s/step - loss: 0.1548 - acc: 0.9355 - val_loss: 2.8860 - val_acc: 0.6133\n",
            "Epoch 98/100\n",
            "8/8 [==============================] - 19s 2s/step - loss: 0.1628 - acc: 0.9083 - val_loss: 3.8077 - val_acc: 0.5508\n",
            "Epoch 99/100\n",
            "8/8 [==============================] - 25s 3s/step - loss: 0.1207 - acc: 0.9561 - val_loss: 3.0959 - val_acc: 0.6094\n",
            "Epoch 100/100\n",
            "8/8 [==============================] - 22s 3s/step - loss: 0.1206 - acc: 0.9488 - val_loss: 4.9043 - val_acc: 0.5156\n"
          ],
          "name": "stdout"
        }
      ]
    },
    {
      "cell_type": "code",
      "metadata": {
        "id": "7zNPRWOVJdOH",
        "colab_type": "code",
        "outputId": "e8a78ec2-663a-4ca4-ce9d-d8c86e8d449a",
        "colab": {
          "base_uri": "https://localhost:8080/",
          "height": 545
        }
      },
      "source": [
        "import matplotlib.pyplot as plt\n",
        "acc = history.history['acc']\n",
        "val_acc = history.history['val_acc']\n",
        "loss = history.history['loss']\n",
        "val_loss = history.history['val_loss']\n",
        "\n",
        "epochs = range(len(acc))\n",
        "\n",
        "plt.plot(epochs, acc, 'r', label='Training accuracy')\n",
        "plt.plot(epochs, val_acc, 'b', label='Validation accuracy')\n",
        "plt.title('Training and validation accuracy')\n",
        "\n",
        "plt.figure()\n",
        "\n",
        "plt.plot(epochs, loss, 'r', label='Training Loss')\n",
        "plt.plot(epochs, val_loss, 'b', label='Validation Loss')\n",
        "plt.title('Training and validation loss')\n",
        "plt.legend()\n",
        "\n",
        "plt.show()"
      ],
      "execution_count": 0,
      "outputs": [
        {
          "output_type": "display_data",
          "data": {
            "image/png": "[encoded data removed]",
            "text/plain": [
              "<Figure size 432x288 with 1 Axes>"
            ]
          },
          "metadata": {
            "tags": []
          }
        },
        {
          "output_type": "display_data",
          "data": {
            "image/png": "[encoded data removed]",
            "text/plain": [
              "<Figure size 432x288 with 1 Axes>"
            ]
          },
          "metadata": {
            "tags": []
          }
        }
      ]
    }
  ]
}