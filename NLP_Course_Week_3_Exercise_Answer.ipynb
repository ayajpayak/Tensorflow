{
  "nbformat": 4,
  "nbformat_minor": 0,
  "metadata": {
    "colab": {
      "name": "NLP Course - Week 3 Exercise Answer.ipynb",
      "provenance": [],
      "include_colab_link": true
    },
    "kernelspec": {
      "name": "python3",
      "display_name": "Python 3"
    },
    "accelerator": "GPU"
  },
  "cells": [
    {
      "cell_type": "markdown",
      "metadata": {
        "id": "view-in-github",
        "colab_type": "text"
      },
      "source": [
        "<a href=\"https://colab.research.google.com/github/ayajpayak/Tensorflow/blob/master/NLP_Course_Week_3_Exercise_Answer.ipynb\" target=\"_parent\"><img src=\"https://colab.research.google.com/assets/colab-badge.svg\" alt=\"Open In Colab\"/></a>"
      ]
    },
    {
      "cell_type": "code",
      "metadata": {
        "id": "hmA6EzkQJ5jt",
        "colab_type": "code",
        "colab": {}
      },
      "source": [
        "import json\n",
        "import tensorflow as tf\n",
        "import csv\n",
        "import random\n",
        "import numpy as np\n",
        "\n",
        "from tensorflow.keras.preprocessing.text import Tokenizer\n",
        "from tensorflow.keras.preprocessing.sequence import pad_sequences\n",
        "from tensorflow.keras.utils import to_categorical\n",
        "from tensorflow.keras import regularizers\n",
        "\n",
        "\n",
        "embedding_dim = 100\n",
        "max_length = 16\n",
        "trunc_type='post'\n",
        "padding_type='post'\n",
        "oov_tok = \"<OOV>\"\n",
        "training_size=160000\n",
        "test_portion=.1\n",
        "\n",
        "corpus = []\n"
      ],
      "execution_count": 0,
      "outputs": []
    },
    {
      "cell_type": "code",
      "metadata": {
        "id": "bM0l_dORKqE0",
        "colab_type": "code",
        "outputId": "a6c52462-31d0-4602-ac6a-f6bb68b0c513",
        "colab": {
          "base_uri": "https://localhost:8080/",
          "height": 210
        }
      },
      "source": [
        "\n",
        "# Note that I cleaned the Stanford dataset to remove LATIN1 encoding to make it easier for Python CSV reader\n",
        "# You can do that yourself with:\n",
        "# iconv -f LATIN1 -t UTF8 training.1600000.processed.noemoticon.csv -o training_cleaned.csv\n",
        "# I then hosted it on my site to make it easier to use in this notebook\n",
        "\n",
        "!wget --no-check-certificate \\\n",
        "    https://storage.googleapis.com/laurencemoroney-blog.appspot.com/training_cleaned.csv \\\n",
        "    -O /tmp/training_cleaned.csv\n",
        "\n",
        "num_sentences = 0\n",
        "\n",
        "with open(\"/tmp/training_cleaned.csv\") as csvfile:\n",
        "    reader = csv.reader(csvfile, delimiter=',')\n",
        "    for row in reader:\n",
        "        list_item=[]\n",
        "        list_item.append(row[5])\n",
        "        this_label=row[0]\n",
        "        if this_label=='0':\n",
        "            list_item.append(0)\n",
        "        else:\n",
        "            list_item.append(1)\n",
        "        num_sentences = num_sentences + 1\n",
        "        corpus.append(list_item)\n",
        "\n",
        "\n"
      ],
      "execution_count": 0,
      "outputs": [
        {
          "output_type": "stream",
          "text": [
            "--2019-09-22 21:47:55--  https://storage.googleapis.com/laurencemoroney-blog.appspot.com/training_cleaned.csv\n",
            "Resolving storage.googleapis.com (storage.googleapis.com)... 74.125.204.128, 2404:6800:4008:c07::80\n",
            "Connecting to storage.googleapis.com (storage.googleapis.com)|74.125.204.128|:443... connected.\n",
            "HTTP request sent, awaiting response... 200 OK\n",
            "Length: 238942690 (228M) [application/octet-stream]\n",
            "Saving to: ‘/tmp/training_cleaned.csv’\n",
            "\n",
            "/tmp/training_clean 100%[===================>] 227.87M  88.2MB/s    in 2.6s    \n",
            "\n",
            "2019-09-22 21:47:58 (88.2 MB/s) - ‘/tmp/training_cleaned.csv’ saved [238942690/238942690]\n",
            "\n"
          ],
          "name": "stdout"
        }
      ]
    },
    {
      "cell_type": "code",
      "metadata": {
        "id": "3kxblBUjEUX-",
        "colab_type": "code",
        "outputId": "94f07096-7396-4ecb-ac9b-441c53680375",
        "colab": {
          "base_uri": "https://localhost:8080/",
          "height": 90
        }
      },
      "source": [
        "print(num_sentences)\n",
        "print(len(corpus))\n",
        "print(corpus[1])\n",
        "\n",
        "# Expected Output:\n",
        "# 1600000\n",
        "# 1600000\n",
        "# [\"is upset that he can't update his Facebook by texting it... and might cry as a result  School today also. Blah!\", 0]"
      ],
      "execution_count": 0,
      "outputs": [
        {
          "output_type": "stream",
          "text": [
            "1600000\n",
            "1600000\n",
            "[\"is upset that he can't update his Facebook by texting it... and might cry as a result  School today also. Blah!\", 0]\n"
          ],
          "name": "stdout"
        }
      ]
    },
    {
      "cell_type": "code",
      "metadata": {
        "id": "ohOGz24lsNAD",
        "colab_type": "code",
        "colab": {}
      },
      "source": [
        "sentences=[]\n",
        "labels=[]\n",
        "random.shuffle(corpus)\n",
        "for x in range(training_size):\n",
        "    sentences.append(corpus[x][0])\n",
        "    labels.append(corpus[x][1])\n",
        "\n",
        "\n",
        "tokenizer = Tokenizer()\n",
        "tokenizer.fit_on_texts(sentences)\n",
        "\n",
        "word_index = tokenizer.word_index\n",
        "vocab_size=len(word_index)\n",
        "\n",
        "sequences = tokenizer.texts_to_sequences(sentences)\n",
        "padded = pad_sequences(sequences, maxlen=max_length, padding=padding_type, truncating=trunc_type)\n",
        "\n",
        "split = int(test_portion * training_size)\n",
        "\n",
        "test_sequences = padded[0:split]\n",
        "training_sequences = padded[split:training_size]\n",
        "test_labels = labels[0:split]\n",
        "training_labels = labels[split:training_size]"
      ],
      "execution_count": 0,
      "outputs": []
    },
    {
      "cell_type": "code",
      "metadata": {
        "id": "gIrtRem1En3N",
        "colab_type": "code",
        "outputId": "af1836f9-8f01-4389-a116-cb0e0b379b90",
        "colab": {
          "base_uri": "https://localhost:8080/",
          "height": 52
        }
      },
      "source": [
        "print(vocab_size)\n",
        "print(word_index['i'])\n",
        "# Expected Output\n",
        "# 138858\n",
        "# 1"
      ],
      "execution_count": 0,
      "outputs": [
        {
          "output_type": "stream",
          "text": [
            "138293\n",
            "1\n"
          ],
          "name": "stdout"
        }
      ]
    },
    {
      "cell_type": "code",
      "metadata": {
        "id": "C1zdgJkusRh0",
        "colab_type": "code",
        "outputId": "c8339cef-5872-49d5-e72a-5a91c60b666c",
        "colab": {
          "base_uri": "https://localhost:8080/",
          "height": 210
        }
      },
      "source": [
        "# Note this is the 100 dimension version of GloVe from Stanford\n",
        "# I unzipped and hosted it on my site to make this notebook easier\n",
        "!wget --no-check-certificate \\\n",
        "    https://storage.googleapis.com/laurencemoroney-blog.appspot.com/glove.6B.100d.txt \\\n",
        "    -O /tmp/glove.6B.100d.txt\n",
        "embeddings_index = {};\n",
        "with open('/tmp/glove.6B.100d.txt') as f:\n",
        "    for line in f:\n",
        "        values = line.split();\n",
        "        word = values[0];\n",
        "        coefs = np.asarray(values[1:], dtype='float32');\n",
        "        embeddings_index[word] = coefs;\n",
        "\n",
        "embeddings_matrix = np.zeros((vocab_size+1, embedding_dim));\n",
        "for word, i in word_index.items():\n",
        "    embedding_vector = embeddings_index.get(word);\n",
        "    if embedding_vector is not None:\n",
        "        embeddings_matrix[i] = embedding_vector;"
      ],
      "execution_count": 0,
      "outputs": [
        {
          "output_type": "stream",
          "text": [
            "--2019-09-22 21:48:31--  https://storage.googleapis.com/laurencemoroney-blog.appspot.com/glove.6B.100d.txt\n",
            "Resolving storage.googleapis.com (storage.googleapis.com)... 74.125.204.128, 2404:6800:4008:c04::80\n",
            "Connecting to storage.googleapis.com (storage.googleapis.com)|74.125.204.128|:443... connected.\n",
            "HTTP request sent, awaiting response... 200 OK\n",
            "Length: 347116733 (331M) [text/plain]\n",
            "Saving to: ‘/tmp/glove.6B.100d.txt’\n",
            "\n",
            "/tmp/glove.6B.100d. 100%[===================>] 331.04M  93.4MB/s    in 3.5s    \n",
            "\n",
            "2019-09-22 21:48:35 (93.4 MB/s) - ‘/tmp/glove.6B.100d.txt’ saved [347116733/347116733]\n",
            "\n"
          ],
          "name": "stdout"
        }
      ]
    },
    {
      "cell_type": "code",
      "metadata": {
        "id": "71NLk_lpFLNt",
        "colab_type": "code",
        "outputId": "4886b67c-1f7c-40c7-bbef-17c8e59098bc",
        "colab": {
          "base_uri": "https://localhost:8080/",
          "height": 34
        }
      },
      "source": [
        "print(len(embeddings_matrix))\n",
        "# Expected Output\n",
        "# 138859"
      ],
      "execution_count": 0,
      "outputs": [
        {
          "output_type": "stream",
          "text": [
            "138294\n"
          ],
          "name": "stdout"
        }
      ]
    },
    {
      "cell_type": "code",
      "metadata": {
        "colab_type": "code",
        "id": "iKKvbuEBOGFz",
        "outputId": "8f9ec4fe-dc54-49ef-e6a7-df59c5147f23",
        "colab": {
          "base_uri": "https://localhost:8080/",
          "height": 1000
        }
      },
      "source": [
        "model = tf.keras.Sequential([\n",
        "    tf.keras.layers.Embedding(vocab_size+1, embedding_dim, input_length=max_length, weights=[embeddings_matrix], trainable=False),\n",
        "    tf.keras.layers.Dropout(0.2),\n",
        "    tf.keras.layers.Conv1D(64, 5, activation='relu'),\n",
        "    tf.keras.layers.MaxPooling1D(pool_size=4),\n",
        "    tf.keras.layers.LSTM(64),\n",
        "    tf.keras.layers.Dense(1, activation='sigmoid')\n",
        "])\n",
        "model.compile(loss='binary_crossentropy',optimizer='adam',metrics=['accuracy'])\n",
        "model.summary()\n",
        "\n",
        "num_epochs = 50\n",
        "history = model.fit(training_sequences, training_labels, epochs=num_epochs, validation_data=(test_sequences, test_labels), verbose=2)\n",
        "\n",
        "print(\"Training Complete\")\n"
      ],
      "execution_count": 0,
      "outputs": [
        {
          "output_type": "stream",
          "text": [
            "WARNING:tensorflow:From /usr/local/lib/python3.6/dist-packages/tensorflow/python/keras/initializers.py:119: calling RandomUniform.__init__ (from tensorflow.python.ops.init_ops) with dtype is deprecated and will be removed in a future version.\n",
            "Instructions for updating:\n",
            "Call initializer instance with the dtype argument instead of passing it to the constructor\n",
            "WARNING:tensorflow:From /usr/local/lib/python3.6/dist-packages/tensorflow/python/ops/init_ops.py:1251: calling VarianceScaling.__init__ (from tensorflow.python.ops.init_ops) with dtype is deprecated and will be removed in a future version.\n",
            "Instructions for updating:\n",
            "Call initializer instance with the dtype argument instead of passing it to the constructor\n",
            "WARNING:tensorflow:From /usr/local/lib/python3.6/dist-packages/tensorflow/python/ops/nn_impl.py:180: add_dispatch_support.<locals>.wrapper (from tensorflow.python.ops.array_ops) is deprecated and will be removed in a future version.\n",
            "Instructions for updating:\n",
            "Use tf.where in 2.0, which has the same broadcast rule as np.where\n",
            "Model: \"sequential\"\n",
            "_________________________________________________________________\n",
            "Layer (type)                 Output Shape              Param #   \n",
            "=================================================================\n",
            "embedding (Embedding)        (None, 16, 100)           13829400  \n",
            "_________________________________________________________________\n",
            "dropout (Dropout)            (None, 16, 100)           0         \n",
            "_________________________________________________________________\n",
            "conv1d (Conv1D)              (None, 12, 64)            32064     \n",
            "_________________________________________________________________\n",
            "max_pooling1d (MaxPooling1D) (None, 3, 64)             0         \n",
            "_________________________________________________________________\n",
            "lstm (LSTM)                  (None, 64)                33024     \n",
            "_________________________________________________________________\n",
            "dense (Dense)                (None, 1)                 65        \n",
            "=================================================================\n",
            "Total params: 13,894,553\n",
            "Trainable params: 65,153\n",
            "Non-trainable params: 13,829,400\n",
            "_________________________________________________________________\n",
            "Train on 144000 samples, validate on 16000 samples\n",
            "Epoch 1/50\n",
            "144000/144000 - 54s - loss: 0.5680 - acc: 0.6988 - val_loss: 0.5266 - val_acc: 0.7310\n",
            "Epoch 2/50\n",
            "144000/144000 - 51s - loss: 0.5273 - acc: 0.7313 - val_loss: 0.5156 - val_acc: 0.7398\n",
            "Epoch 3/50\n",
            "144000/144000 - 51s - loss: 0.5111 - acc: 0.7439 - val_loss: 0.5112 - val_acc: 0.7451\n",
            "Epoch 4/50\n",
            "144000/144000 - 51s - loss: 0.4999 - acc: 0.7507 - val_loss: 0.5018 - val_acc: 0.7488\n",
            "Epoch 5/50\n",
            "144000/144000 - 51s - loss: 0.4907 - acc: 0.7578 - val_loss: 0.5018 - val_acc: 0.7486\n",
            "Epoch 6/50\n",
            "144000/144000 - 51s - loss: 0.4854 - acc: 0.7601 - val_loss: 0.4989 - val_acc: 0.7496\n",
            "Epoch 7/50\n",
            "144000/144000 - 51s - loss: 0.4779 - acc: 0.7654 - val_loss: 0.5012 - val_acc: 0.7521\n",
            "Epoch 8/50\n",
            "144000/144000 - 51s - loss: 0.4728 - acc: 0.7694 - val_loss: 0.5005 - val_acc: 0.7487\n",
            "Epoch 9/50\n",
            "144000/144000 - 51s - loss: 0.4685 - acc: 0.7715 - val_loss: 0.5014 - val_acc: 0.7505\n",
            "Epoch 10/50\n",
            "144000/144000 - 51s - loss: 0.4647 - acc: 0.7733 - val_loss: 0.5000 - val_acc: 0.7486\n",
            "Epoch 11/50\n",
            "144000/144000 - 51s - loss: 0.4623 - acc: 0.7771 - val_loss: 0.5011 - val_acc: 0.7505\n",
            "Epoch 12/50\n",
            "144000/144000 - 51s - loss: 0.4579 - acc: 0.7781 - val_loss: 0.5031 - val_acc: 0.7498\n",
            "Epoch 13/50\n",
            "144000/144000 - 51s - loss: 0.4564 - acc: 0.7779 - val_loss: 0.5032 - val_acc: 0.7491\n",
            "Epoch 14/50\n",
            "144000/144000 - 51s - loss: 0.4547 - acc: 0.7806 - val_loss: 0.5054 - val_acc: 0.7517\n",
            "Epoch 15/50\n",
            "144000/144000 - 51s - loss: 0.4519 - acc: 0.7831 - val_loss: 0.5073 - val_acc: 0.7521\n",
            "Epoch 16/50\n",
            "144000/144000 - 51s - loss: 0.4493 - acc: 0.7836 - val_loss: 0.5129 - val_acc: 0.7485\n",
            "Epoch 17/50\n",
            "144000/144000 - 51s - loss: 0.4480 - acc: 0.7844 - val_loss: 0.5107 - val_acc: 0.7498\n",
            "Epoch 18/50\n",
            "144000/144000 - 51s - loss: 0.4475 - acc: 0.7842 - val_loss: 0.5125 - val_acc: 0.7491\n",
            "Epoch 19/50\n",
            "144000/144000 - 51s - loss: 0.4449 - acc: 0.7857 - val_loss: 0.5122 - val_acc: 0.7462\n",
            "Epoch 20/50\n",
            "144000/144000 - 51s - loss: 0.4435 - acc: 0.7872 - val_loss: 0.5133 - val_acc: 0.7525\n",
            "Epoch 21/50\n",
            "144000/144000 - 51s - loss: 0.4422 - acc: 0.7876 - val_loss: 0.5127 - val_acc: 0.7505\n",
            "Epoch 22/50\n",
            "144000/144000 - 51s - loss: 0.4422 - acc: 0.7873 - val_loss: 0.5130 - val_acc: 0.7459\n",
            "Epoch 23/50\n",
            "144000/144000 - 51s - loss: 0.4391 - acc: 0.7904 - val_loss: 0.5163 - val_acc: 0.7479\n",
            "Epoch 24/50\n",
            "144000/144000 - 51s - loss: 0.4395 - acc: 0.7895 - val_loss: 0.5109 - val_acc: 0.7519\n",
            "Epoch 25/50\n",
            "144000/144000 - 51s - loss: 0.4388 - acc: 0.7898 - val_loss: 0.5169 - val_acc: 0.7501\n",
            "Epoch 26/50\n",
            "144000/144000 - 51s - loss: 0.4382 - acc: 0.7897 - val_loss: 0.5148 - val_acc: 0.7499\n",
            "Epoch 27/50\n",
            "144000/144000 - 51s - loss: 0.4365 - acc: 0.7913 - val_loss: 0.5173 - val_acc: 0.7486\n",
            "Epoch 28/50\n",
            "144000/144000 - 51s - loss: 0.4371 - acc: 0.7904 - val_loss: 0.5186 - val_acc: 0.7469\n",
            "Epoch 29/50\n",
            "144000/144000 - 51s - loss: 0.4357 - acc: 0.7919 - val_loss: 0.5177 - val_acc: 0.7489\n",
            "Epoch 30/50\n",
            "144000/144000 - 51s - loss: 0.4344 - acc: 0.7919 - val_loss: 0.5182 - val_acc: 0.7499\n",
            "Epoch 31/50\n",
            "144000/144000 - 51s - loss: 0.4346 - acc: 0.7908 - val_loss: 0.5200 - val_acc: 0.7421\n",
            "Epoch 32/50\n",
            "144000/144000 - 51s - loss: 0.4331 - acc: 0.7943 - val_loss: 0.5319 - val_acc: 0.7444\n",
            "Epoch 33/50\n",
            "144000/144000 - 51s - loss: 0.4324 - acc: 0.7944 - val_loss: 0.5209 - val_acc: 0.7477\n",
            "Epoch 34/50\n",
            "144000/144000 - 51s - loss: 0.4343 - acc: 0.7920 - val_loss: 0.5187 - val_acc: 0.7469\n",
            "Epoch 35/50\n",
            "144000/144000 - 51s - loss: 0.4315 - acc: 0.7937 - val_loss: 0.5193 - val_acc: 0.7489\n",
            "Epoch 36/50\n",
            "144000/144000 - 51s - loss: 0.4304 - acc: 0.7943 - val_loss: 0.5211 - val_acc: 0.7482\n",
            "Epoch 37/50\n",
            "144000/144000 - 51s - loss: 0.4319 - acc: 0.7945 - val_loss: 0.5162 - val_acc: 0.7479\n",
            "Epoch 38/50\n",
            "144000/144000 - 51s - loss: 0.4310 - acc: 0.7949 - val_loss: 0.5280 - val_acc: 0.7419\n",
            "Epoch 39/50\n",
            "144000/144000 - 51s - loss: 0.4309 - acc: 0.7932 - val_loss: 0.5208 - val_acc: 0.7474\n",
            "Epoch 40/50\n",
            "144000/144000 - 51s - loss: 0.4301 - acc: 0.7964 - val_loss: 0.5187 - val_acc: 0.7461\n",
            "Epoch 41/50\n",
            "144000/144000 - 51s - loss: 0.4298 - acc: 0.7954 - val_loss: 0.5224 - val_acc: 0.7485\n",
            "Epoch 42/50\n",
            "144000/144000 - 51s - loss: 0.4304 - acc: 0.7952 - val_loss: 0.5211 - val_acc: 0.7456\n",
            "Epoch 43/50\n",
            "144000/144000 - 51s - loss: 0.4309 - acc: 0.7947 - val_loss: 0.5228 - val_acc: 0.7473\n",
            "Epoch 44/50\n",
            "144000/144000 - 51s - loss: 0.4304 - acc: 0.7941 - val_loss: 0.5219 - val_acc: 0.7479\n",
            "Epoch 45/50\n",
            "144000/144000 - 51s - loss: 0.4301 - acc: 0.7951 - val_loss: 0.5232 - val_acc: 0.7456\n",
            "Epoch 46/50\n",
            "144000/144000 - 50s - loss: 0.4291 - acc: 0.7958 - val_loss: 0.5229 - val_acc: 0.7459\n",
            "Epoch 47/50\n",
            "144000/144000 - 50s - loss: 0.4295 - acc: 0.7958 - val_loss: 0.5194 - val_acc: 0.7477\n",
            "Epoch 48/50\n",
            "144000/144000 - 50s - loss: 0.4280 - acc: 0.7974 - val_loss: 0.5212 - val_acc: 0.7477\n",
            "Epoch 49/50\n",
            "144000/144000 - 50s - loss: 0.4289 - acc: 0.7948 - val_loss: 0.5302 - val_acc: 0.7431\n",
            "Epoch 50/50\n",
            "144000/144000 - 50s - loss: 0.4284 - acc: 0.7963 - val_loss: 0.5218 - val_acc: 0.7466\n",
            "Training Complete\n"
          ],
          "name": "stdout"
        }
      ]
    },
    {
      "cell_type": "code",
      "metadata": {
        "id": "qxju4ItJKO8F",
        "colab_type": "code",
        "outputId": "c70454e6-94f0-48ba-d238-9fdcfcf6978e",
        "colab": {
          "base_uri": "https://localhost:8080/",
          "height": 238
        }
      },
      "source": [
        "import matplotlib.image  as mpimg\n",
        "import matplotlib.pyplot as plt\n",
        "\n",
        "#-----------------------------------------------------------\n",
        "# Retrieve a list of list results on training and test data\n",
        "# sets for each training epoch\n",
        "#-----------------------------------------------------------\n",
        "acc=history.history['acc']\n",
        "val_acc=history.history['val_acc']\n",
        "loss=history.history['loss']\n",
        "val_loss=history.history['val_loss']\n",
        "\n",
        "epochs=range(len(acc)) # Get number of epochs\n",
        "\n",
        "#------------------------------------------------\n",
        "# Plot training and validation accuracy per epoch\n",
        "#------------------------------------------------\n",
        "plt.plot(epochs, acc, 'r')\n",
        "plt.plot(epochs, val_acc, 'b')\n",
        "plt.title('Training and validation accuracy')\n",
        "plt.xlabel(\"Epochs\")\n",
        "plt.ylabel(\"Accuracy\")\n",
        "plt.legend([\"Accuracy\", \"Validation Accuracy\"])\n",
        "\n",
        "plt.figure()\n",
        "\n",
        "#------------------------------------------------\n",
        "# Plot training and validation loss per epoch\n",
        "#------------------------------------------------\n",
        "plt.plot(epochs, loss, 'r')\n",
        "plt.plot(epochs, val_loss, 'b')\n",
        "plt.title('Training and validation loss')\n",
        "plt.xlabel(\"Epochs\")\n",
        "plt.ylabel(\"Loss\")\n",
        "plt.legend([\"Loss\", \"Validation Loss\"])\n",
        "\n",
        "plt.figure()\n",
        "\n",
        "\n",
        "# Expected Output\n",
        "# A chart where the validation loss does not increase sharply!"
      ],
      "execution_count": 0,
      "outputs": [
        {
          "output_type": "error",
          "ename": "NameError",
          "evalue": "ignored",
          "traceback": [
            "\u001b[0;31m---------------------------------------------------------------------------\u001b[0m",
            "\u001b[0;31mNameError\u001b[0m                                 Traceback (most recent call last)",
            "\u001b[0;32m<ipython-input-2-75ba2cef307b>\u001b[0m in \u001b[0;36m<module>\u001b[0;34m()\u001b[0m\n\u001b[1;32m      6\u001b[0m \u001b[0;31m# sets for each training epoch\u001b[0m\u001b[0;34m\u001b[0m\u001b[0;34m\u001b[0m\u001b[0;34m\u001b[0m\u001b[0m\n\u001b[1;32m      7\u001b[0m \u001b[0;31m#-----------------------------------------------------------\u001b[0m\u001b[0;34m\u001b[0m\u001b[0;34m\u001b[0m\u001b[0;34m\u001b[0m\u001b[0m\n\u001b[0;32m----> 8\u001b[0;31m \u001b[0macc\u001b[0m\u001b[0;34m=\u001b[0m\u001b[0mhistory\u001b[0m\u001b[0;34m.\u001b[0m\u001b[0mhistory\u001b[0m\u001b[0;34m[\u001b[0m\u001b[0;34m'acc'\u001b[0m\u001b[0;34m]\u001b[0m\u001b[0;34m\u001b[0m\u001b[0;34m\u001b[0m\u001b[0m\n\u001b[0m\u001b[1;32m      9\u001b[0m \u001b[0mval_acc\u001b[0m\u001b[0;34m=\u001b[0m\u001b[0mhistory\u001b[0m\u001b[0;34m.\u001b[0m\u001b[0mhistory\u001b[0m\u001b[0;34m[\u001b[0m\u001b[0;34m'val_acc'\u001b[0m\u001b[0;34m]\u001b[0m\u001b[0;34m\u001b[0m\u001b[0;34m\u001b[0m\u001b[0m\n\u001b[1;32m     10\u001b[0m \u001b[0mloss\u001b[0m\u001b[0;34m=\u001b[0m\u001b[0mhistory\u001b[0m\u001b[0;34m.\u001b[0m\u001b[0mhistory\u001b[0m\u001b[0;34m[\u001b[0m\u001b[0;34m'loss'\u001b[0m\u001b[0;34m]\u001b[0m\u001b[0;34m\u001b[0m\u001b[0;34m\u001b[0m\u001b[0m\n",
            "\u001b[0;31mNameError\u001b[0m: name 'history' is not defined"
          ]
        }
      ]
    }
  ]
}